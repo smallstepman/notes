{
 "cells": [
  {
   "cell_type": "code",
   "execution_count": null,
   "metadata": {},
   "outputs": [],
   "source": [
    "def daterange(startDate, endDate):\n",
    "    for i in xrange(int((endDate - startDate).days)):\n",
    "        nextDate = startDate + timedelta(i)\n",
    "        if nextDate.weekday() not in (5, 6):\n",
    "            yield startDate + timedelta(i)\n",
    "\n",
    "a=daterange(stard_date, end_date)"
   ]
  },
  {
   "cell_type": "code",
   "execution_count": 7,
   "metadata": {},
   "outputs": [],
   "source": [
    "import pandas as pd\n",
    "from datetime import date \n",
    "from dateutil.relativedelta import *\n",
    "from dateutil.easter import *\n",
    "from dateutil.rrule import *\n",
    "from dateutil.parser import *\n",
    "from datetime import *\n",
    "\n",
    "from dateutil.rrule import DAILY, rrule, SA, SU\n",
    "from datetime import date\n",
    "\n",
    "def saturday():\n",
    "    return rrule(DAILY, dtstart=date(2010,10,10), until=date(2027,10,10), byweekday=(SA))\n",
    "\n",
    "%%timeit\n",
    "c=datetime(1993,10,9)\n",
    "c in saturday()\n",
    "\n",
    "df = pd.DataFrame([[np.datetime64('2017-01-08 00:00:00'),2,3],\n",
    "                   [np.datetime64('2017-01-04 00:00:00'),'b','c'],\n",
    "                   [np.datetime64('2017-01-07 00:00:00'),'sad',432]], columns=['d','a','c'])\n",
    "\n",
    "df.d.map(lambda x: x in saturday())"
   ]
  },
  {
   "cell_type": "code",
   "execution_count": 3,
   "metadata": {},
   "outputs": [
    {
     "data": {
      "application/javascript": [
       "\n",
       "Jupyter.keyboard_manager.command_shortcuts.add_shortcut('r', {\n",
       "    help : 'run cell',\n",
       "    help_index : 'zz',\n",
       "    handler : function (event) {\n",
       "        IPython.notebook.execute_cell();\n",
       "        return false;\n",
       "    }}\n",
       ");"
      ],
      "text/plain": [
       "<IPython.core.display.Javascript object>"
      ]
     },
     "metadata": {},
     "output_type": "display_data"
    }
   ],
   "source": [
    "%%javascript\n",
    "\n",
    "Jupyter.keyboard_manager.command_shortcuts.add_shortcut('r', {\n",
    "    help : 'run cell',\n",
    "    help_index : 'zz',\n",
    "    handler : function (event) {\n",
    "        IPython.notebook.execute_cell();\n",
    "        return false;\n",
    "    }}\n",
    ");"
   ]
  },
  {
   "cell_type": "code",
   "execution_count": 187,
   "metadata": {
    "collapsed": true
   },
   "outputs": [
    {
     "data": {
      "text/plain": [
       "['2020-02-23',\n",
       " '2020-10-09',\n",
       " '2020-01-01',\n",
       " '2020-12-23',\n",
       " '2020-07-04',\n",
       " '2020-12-25',\n",
       " '2021-01-01',\n",
       " '2021-12-23',\n",
       " '2021-12-25',\n",
       " '2021-10-09',\n",
       " '2021-07-04',\n",
       " '2021-02-23',\n",
       " '2022-12-25',\n",
       " '2022-12-23',\n",
       " '2022-07-04',\n",
       " '2022-02-23',\n",
       " '2022-01-01',\n",
       " '2022-10-09',\n",
       " '2023-12-23',\n",
       " '2023-10-09',\n",
       " '2023-07-04',\n",
       " '2023-02-23',\n",
       " '2023-01-01',\n",
       " '2023-12-25',\n",
       " '2024-02-23',\n",
       " '2024-07-04',\n",
       " '2024-10-09',\n",
       " '2024-12-25',\n",
       " '2024-01-01',\n",
       " '2024-12-23',\n",
       " '2025-01-01',\n",
       " '2025-12-23',\n",
       " '2025-07-04',\n",
       " '2025-10-09',\n",
       " '2025-12-25',\n",
       " '2025-02-23',\n",
       " '2026-10-09',\n",
       " '2026-01-01',\n",
       " '2026-12-25',\n",
       " '2026-07-04',\n",
       " '2026-12-23',\n",
       " '2026-02-23',\n",
       " '2027-12-23',\n",
       " '2027-01-01',\n",
       " '2027-12-25',\n",
       " '2027-07-04',\n",
       " '2027-02-23',\n",
       " '2027-10-09']"
      ]
     },
     "execution_count": 187,
     "metadata": {},
     "output_type": "execute_result"
    }
   ],
   "source": [
    "import json\n",
    "import requests\n",
    "\n",
    "holidays = []\n",
    "\n",
    "for i in range(2010,2028):\n",
    "    response = requests.get(url = 'https://holidayapi.com/v1/holidays?', \n",
    "                            params = {'key'     : '1648ee6b-af5c-47ab-8e3c-0bcb47661844',\n",
    "                                      'country' : 'PL',\n",
    "                                      'year'    : i ,\n",
    "                                      'public'  : 'true'}\n",
    "                       )\n",
    "    holidays.extend(list(json.loads(response.text)['holidays'].keys()))\n",
    "\n",
    "\n",
    "holidays\n"
   ]
  },
  {
   "cell_type": "code",
   "execution_count": 150,
   "metadata": {},
   "outputs": [],
   "source": [
    "df = pd.read_excel('/home/marcin/dev/test_dates.xlsx')\n",
    "df['dn'] = df.d.dt.weekday\n",
    "\n",
    "# df.n.update(df[(~df.dn.isin([5,6]))]['n'].multiply(-1))\n",
    "\n",
    "df.loc[ & ((df.dn.isin([5,6]) == 5) | (df.dn.isin(holidays))) & (df.n > 0) & (df.n < 8),'n'] = 8"
   ]
  },
  {
   "cell_type": "code",
   "execution_count": 31,
   "metadata": {},
   "outputs": [],
   "source": [
    "from dateutil.rrule import DAILY, rrule\n",
    "from datetime import date, datetime\n",
    "import pandas as pd"
   ]
  },
  {
   "cell_type": "code",
   "execution_count": 32,
   "metadata": {},
   "outputs": [],
   "source": [
    "df = pd.read_excel(io='/home/marcin/dev/test_dates.xlsx')"
   ]
  },
  {
   "cell_type": "code",
   "execution_count": 35,
   "metadata": {},
   "outputs": [
    {
     "data": {
      "text/html": [
       "<div>\n",
       "<style>\n",
       "    .dataframe thead tr:only-child th {\n",
       "        text-align: right;\n",
       "    }\n",
       "\n",
       "    .dataframe thead th {\n",
       "        text-align: left;\n",
       "    }\n",
       "\n",
       "    .dataframe tbody tr th {\n",
       "        vertical-align: top;\n",
       "    }\n",
       "</style>\n",
       "<table border=\"1\" class=\"dataframe\">\n",
       "  <thead>\n",
       "    <tr style=\"text-align: right;\">\n",
       "      <th></th>\n",
       "      <th>d</th>\n",
       "      <th>n</th>\n",
       "      <th>type</th>\n",
       "    </tr>\n",
       "  </thead>\n",
       "  <tbody>\n",
       "    <tr>\n",
       "      <th>0</th>\n",
       "      <td>2017-11-03</td>\n",
       "      <td>8</td>\n",
       "      <td>collect overtime</td>\n",
       "    </tr>\n",
       "    <tr>\n",
       "      <th>1</th>\n",
       "      <td>2017-11-04</td>\n",
       "      <td>8</td>\n",
       "      <td>collect overtime</td>\n",
       "    </tr>\n",
       "    <tr>\n",
       "      <th>2</th>\n",
       "      <td>2017-11-05</td>\n",
       "      <td>8</td>\n",
       "      <td>asd OT request</td>\n",
       "    </tr>\n",
       "    <tr>\n",
       "      <th>3</th>\n",
       "      <td>2017-11-06</td>\n",
       "      <td>6</td>\n",
       "      <td>collect overtime</td>\n",
       "    </tr>\n",
       "    <tr>\n",
       "      <th>4</th>\n",
       "      <td>2017-11-07</td>\n",
       "      <td>10</td>\n",
       "      <td>collect overtime</td>\n",
       "    </tr>\n",
       "  </tbody>\n",
       "</table>\n",
       "</div>"
      ],
      "text/plain": [
       "           d   n              type\n",
       "0 2017-11-03   8  collect overtime\n",
       "1 2017-11-04   8  collect overtime\n",
       "2 2017-11-05   8    asd OT request\n",
       "3 2017-11-06   6  collect overtime\n",
       "4 2017-11-07  10  collect overtime"
      ]
     },
     "execution_count": 35,
     "metadata": {},
     "output_type": "execute_result"
    }
   ],
   "source": [
    "df.head()"
   ]
  },
  {
   "cell_type": "code",
   "execution_count": 43,
   "metadata": {},
   "outputs": [
    {
     "data": {
      "text/plain": [
       "3     False\n",
       "4     False\n",
       "5     False\n",
       "6     False\n",
       "7     False\n",
       "8     False\n",
       "9     False\n",
       "10    False\n",
       "11    False\n",
       "12    False\n",
       "13    False\n",
       "14    False\n",
       "15    False\n",
       "16    False\n",
       "17    False\n",
       "18    False\n",
       "19    False\n",
       "20    False\n",
       "21    False\n",
       "22    False\n",
       "23    False\n",
       "24    False\n",
       "25    False\n",
       "26    False\n",
       "27    False\n",
       "28    False\n",
       "29    False\n",
       "30    False\n",
       "31    False\n",
       "32    False\n",
       "33    False\n",
       "34    False\n",
       "35    False\n",
       "36    False\n",
       "37    False\n",
       "38    False\n",
       "39    False\n",
       "Name: d, dtype: bool"
      ]
     },
     "execution_count": 43,
     "metadata": {},
     "output_type": "execute_result"
    }
   ],
   "source": [
    "df.iloc[3:40].d.isin(l)"
   ]
  },
  {
   "cell_type": "code",
   "execution_count": 16,
   "metadata": {},
   "outputs": [],
   "source": [
    "a = datetime(2018,5,5, 1,1,1)"
   ]
  },
  {
   "cell_type": "code",
   "execution_count": 46,
   "metadata": {},
   "outputs": [],
   "source": [
    "l = rrule(DAILY, dtstart=datetime(2014,10,10,1,1,1), until=datetime(2015,10,10,1,1,1), )"
   ]
  },
  {
   "cell_type": "code",
   "execution_count": 29,
   "metadata": {},
   "outputs": [],
   "source": [
    "l = [x.date() for x in l]"
   ]
  },
  {
   "cell_type": "code",
   "execution_count": 47,
   "metadata": {},
   "outputs": [
    {
     "data": {
      "text/plain": [
       "<dateutil.rrule.rrule at 0x7f29b3d964e0>"
      ]
     },
     "execution_count": 47,
     "metadata": {},
     "output_type": "execute_result"
    }
   ],
   "source": [
    "l.between"
   ]
  },
  {
   "cell_type": "code",
   "execution_count": null,
   "metadata": {},
   "outputs": [],
   "source": []
  }
 ],
 "metadata": {
  "kernelspec": {
   "display_name": "Python 3 (ipykernel)",
   "language": "python",
   "name": "python3"
  },
  "language_info": {
   "codemirror_mode": {
    "name": "ipython",
    "version": 3
   },
   "file_extension": ".py",
   "mimetype": "text/x-python",
   "name": "python",
   "nbconvert_exporter": "python",
   "pygments_lexer": "ipython3",
   "version": "3.10.1"
  },
  "varInspector": {
   "cols": {
    "lenName": 16,
    "lenType": 16,
    "lenVar": 40
   },
   "kernels_config": {
    "python": {
     "delete_cmd_postfix": "",
     "delete_cmd_prefix": "del ",
     "library": "var_list.py",
     "varRefreshCmd": "print(var_dic_list())"
    },
    "r": {
     "delete_cmd_postfix": ") ",
     "delete_cmd_prefix": "rm(",
     "library": "var_list.r",
     "varRefreshCmd": "cat(var_dic_list()) "
    }
   },
   "types_to_exclude": [
    "module",
    "function",
    "builtin_function_or_method",
    "instance",
    "_Feature"
   ],
   "window_display": false
  }
 },
 "nbformat": 4,
 "nbformat_minor": 2
}
