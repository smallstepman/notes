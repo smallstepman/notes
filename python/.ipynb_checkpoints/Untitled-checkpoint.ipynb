{
 "cells": [
  {
   "cell_type": "markdown",
   "metadata": {
    "toc": true
   },
   "source": [
    "<h1>Table of Contents<span class=\"tocSkip\"></span></h1>\n",
    "<div class=\"toc\" style=\"margin-top: 1em;\"><ul class=\"toc-item\"></ul></div>"
   ]
  },
  {
   "cell_type": "code",
   "execution_count": 3,
   "metadata": {},
   "outputs": [
    {
     "name": "stdout",
     "output_type": "stream",
     "text": [
      "you called funcasda(4, 4, 4)\n",
      "hellllooo\n",
      "it returned 6\n"
     ]
    },
    {
     "data": {
      "text/plain": [
       "6"
      ]
     },
     "execution_count": 3,
     "metadata": {},
     "output_type": "execute_result"
    }
   ],
   "source": [
    "def logged(f):\n",
    "    \"\"\"Print out the arguments before function call and\n",
    "    after the call print out the returned value\n",
    "    \"\"\"\n",
    "    def wrapper(*args, **kwargs):\n",
    "        print('you called {.__name__}({}{}{})'.format(f, \n",
    "                                                  str(list(args))[1:-1], \n",
    "                                                  ', ' if kwargs else '',\n",
    "                                                  ', '.join('{}={}'.format(*pair) for pair in kwargs.items()),))\n",
    "        val = f(*args, **kwargs)\n",
    "        print('it returned', val)\n",
    "        return val\n",
    "    \n",
    "    return wrapper\n",
    "sw\n",
    "\n",
    "\n",
    "@logged\n",
    "def funcasda(*args):\n",
    "    print (\"hellllooo\")\n",
    "    return 3 + len(args)\n",
    "\n",
    "\n",
    "\n",
    "funcasda(4, 4, 4)"
   ]
  },
  {
   "cell_type": "code",
   "execution_count": 4,
   "metadata": {},
   "outputs": [
    {
     "name": "stdout",
     "output_type": "stream",
     "text": [
      "{'a': 'mouse', 'm': 'music'}\n"
     ]
    }
   ],
   "source": [
    "def g(**kwargs):\n",
    "    print (kwargs)\n",
    "    \n",
    "g(a=\"mouse\", m=\"music\")"
   ]
  },
  {
   "cell_type": "code",
   "execution_count": 7,
   "metadata": {},
   "outputs": [
    {
     "name": "stdout",
     "output_type": "stream",
     "text": [
      "('mouse', 'music', 'flow')\n"
     ]
    }
   ],
   "source": [
    "def g(*args):\n",
    "    print (args)\n",
    "    \n",
    "g(\"mouse\", \"music\", \"flow\")"
   ]
  },
  {
   "cell_type": "code",
   "execution_count": null,
   "metadata": {},
   "outputs": [],
   "source": []
  }
 ],
 "metadata": {
  "kernelspec": {
   "display_name": "Python 3 (ipykernel)",
   "language": "python",
   "name": "python3"
  },
  "language_info": {
   "codemirror_mode": {
    "name": "ipython",
    "version": 3
   },
   "file_extension": ".py",
   "mimetype": "text/x-python",
   "name": "python",
   "nbconvert_exporter": "python",
   "pygments_lexer": "ipython3",
   "version": "3.10.1"
  },
  "toc": {
   "nav_menu": {},
   "number_sections": true,
   "sideBar": true,
   "skip_h1_title": false,
   "toc_cell": true,
   "toc_position": {
    "height": "2129px",
    "left": "0px",
    "right": "796.818px",
    "top": "94.0114px",
    "width": "185px"
   },
   "toc_section_display": "block",
   "toc_window_display": false
  },
  "varInspector": {
   "cols": {
    "lenName": 16,
    "lenType": 16,
    "lenVar": 40
   },
   "kernels_config": {
    "python": {
     "delete_cmd_postfix": "",
     "delete_cmd_prefix": "del ",
     "library": "var_list.py",
     "varRefreshCmd": "print(var_dic_list())"
    },
    "r": {
     "delete_cmd_postfix": ") ",
     "delete_cmd_prefix": "rm(",
     "library": "var_list.r",
     "varRefreshCmd": "cat(var_dic_list()) "
    }
   },
   "types_to_exclude": [
    "module",
    "function",
    "builtin_function_or_method",
    "instance",
    "_Feature"
   ],
   "window_display": false
  }
 },
 "nbformat": 4,
 "nbformat_minor": 2
}
