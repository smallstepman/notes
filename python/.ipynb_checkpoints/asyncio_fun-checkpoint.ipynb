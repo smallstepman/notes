{
 "cells": [
  {
   "cell_type": "markdown",
   "metadata": {},
   "source": [
    "Objective is to have a list which is being appended by many workers"
   ]
  },
  {
   "cell_type": "code",
   "execution_count": 3,
   "metadata": {},
   "outputs": [],
   "source": [
    "# !pip install aiohttp\n",
    "# "
   ]
  },
  {
   "cell_type": "code",
   "execution_count": 8,
   "metadata": {},
   "outputs": [
    {
     "name": "stdout",
     "output_type": "stream",
     "text": [
      "<Task pending name='Task-41' coro=<fetch_all() running at <ipython-input-8-836b59ef7bd0>:13>>\n",
      "Getting http://httpbin.org/delay/3...\n",
      "Getting http://httpbin.org/delay/2...\n",
      "Getting http://httpbin.org/delay/1...\n",
      "Getting http://httpbin.org/delay/1...\n",
      "Getting http://httpbin.org/delay/3...\n",
      "http://httpbin.org/delay/1: Got 359 bytes\n",
      "http://httpbin.org/delay/1: Got 359 bytes\n",
      "http://httpbin.org/delay/2: Got 359 bytes\n",
      "http://httpbin.org/delay/3: Got 359 bytes\n",
      "http://httpbin.org/delay/3: Got 359 bytes\n"
     ]
    }
   ],
   "source": [
    "import asyncio\n",
    "\n",
    "import aiohttp\n",
    "\n",
    "\n",
    "async def fetch(session, url):\n",
    "    print(\"Getting {}...\".format(url))\n",
    "    async with session.get(url) as resp:\n",
    "        text = await resp.text()\n",
    "    return \"{}: Got {} bytes\".format(url, len(text))\n",
    "\n",
    "\n",
    "async def fetch_all():\n",
    "    async with aiohttp.ClientSession() as session:\n",
    "        tasks = [fetch(session, \"http://httpbin.org/delay/{}\".format(delay))\n",
    "                 for delay in (1, 1, 2, 3, 3)]\n",
    "        for task in asyncio.as_completed(tasks):\n",
    "            print(await task)\n",
    "    return \"Done.\"\n",
    "\n",
    "\n",
    "loop = asyncio.get_event_loop()\n",
    "resp = loop.create_task(fetch_all())\n",
    "\n",
    "# resp = loop.run_until_complete()\n",
    "print(resp)\n",
    "# loop.close()\n"
   ]
  },
  {
   "cell_type": "code",
   "execution_count": 15,
   "metadata": {},
   "outputs": [
    {
     "name": "stdout",
     "output_type": "stream",
     "text": [
      "hello world!\n",
      "hello world!\n",
      "hello world!\n",
      "hello world!\n",
      "hello world!hello world!\n",
      "hello world!\n",
      "foo\n",
      "\n"
     ]
    }
   ],
   "source": [
    "import concurrent.futures\n",
    "import time \n",
    "\n",
    "def foo(bar):\n",
    "    print('hello {}'.format(bar))\n",
    "    time.sleep(1)\n",
    "    return 'foo'\n",
    "\n",
    "with concurrent.futures.ThreadPoolExecutor(10) as executor:\n",
    "    results = []\n",
    "    future = executor.submit(foo, 'world!')\n",
    "    results.append(future.result())\n",
    "    future = executor.submit(foo, 'world!')\n",
    "    results.append(future.result())\n",
    "    future = executor.submit(foo, 'world!')\n",
    "    results.append(future.result())\n",
    "    future = executor.submit(foo, 'world!')\n",
    "    results.append(future.result())\n",
    "    future = executor.submit(foo, 'world!')\n",
    "    future = executor.submit(foo, 'world!')\n",
    "    future = executor.submit(foo, 'world!')\n",
    "    \n",
    "    print(return_value)"
   ]
  },
  {
   "cell_type": "code",
   "execution_count": 23,
   "metadata": {},
   "outputs": [
    {
     "name": "stdout",
     "output_type": "stream",
     "text": [
      "0.43863574675056294\n"
     ]
    },
    {
     "ename": "KeyboardInterrupt",
     "evalue": "",
     "output_type": "error",
     "traceback": [
      "\u001b[0;31m----------------------------------------------------------------------\u001b[0m",
      "\u001b[0;31mKeyboardInterrupt\u001b[0m                    Traceback (most recent call last)",
      "\u001b[0;32m<ipython-input-23-1edad005c17b>\u001b[0m in \u001b[0;36m<module>\u001b[0;34m\u001b[0m\n\u001b[1;32m     17\u001b[0m \u001b[0mt1\u001b[0m\u001b[0;34m.\u001b[0m\u001b[0mstart\u001b[0m\u001b[0;34m(\u001b[0m\u001b[0;34m)\u001b[0m\u001b[0;34m\u001b[0m\u001b[0;34m\u001b[0m\u001b[0m\n\u001b[1;32m     18\u001b[0m \u001b[0mt1\u001b[0m\u001b[0;34m.\u001b[0m\u001b[0mjoin\u001b[0m\u001b[0;34m(\u001b[0m\u001b[0;34m)\u001b[0m\u001b[0;34m\u001b[0m\u001b[0;34m\u001b[0m\u001b[0m\n\u001b[0;32m---> 19\u001b[0;31m \u001b[0mprint\u001b[0m\u001b[0;34m(\u001b[0m\u001b[0mout_queue1\u001b[0m\u001b[0;34m.\u001b[0m\u001b[0mget\u001b[0m\u001b[0;34m(\u001b[0m\u001b[0;34m)\u001b[0m\u001b[0;34m)\u001b[0m\u001b[0;34m\u001b[0m\u001b[0;34m\u001b[0m\u001b[0m\n\u001b[0m",
      "\u001b[0;32m/usr/lib/python3.8/queue.py\u001b[0m in \u001b[0;36mget\u001b[0;34m(self, block, timeout)\u001b[0m\n\u001b[1;32m    168\u001b[0m             \u001b[0;32melif\u001b[0m \u001b[0mtimeout\u001b[0m \u001b[0;32mis\u001b[0m \u001b[0;32mNone\u001b[0m\u001b[0;34m:\u001b[0m\u001b[0;34m\u001b[0m\u001b[0;34m\u001b[0m\u001b[0m\n\u001b[1;32m    169\u001b[0m                 \u001b[0;32mwhile\u001b[0m \u001b[0;32mnot\u001b[0m \u001b[0mself\u001b[0m\u001b[0;34m.\u001b[0m\u001b[0m_qsize\u001b[0m\u001b[0;34m(\u001b[0m\u001b[0;34m)\u001b[0m\u001b[0;34m:\u001b[0m\u001b[0;34m\u001b[0m\u001b[0;34m\u001b[0m\u001b[0m\n\u001b[0;32m--> 170\u001b[0;31m                     \u001b[0mself\u001b[0m\u001b[0;34m.\u001b[0m\u001b[0mnot_empty\u001b[0m\u001b[0;34m.\u001b[0m\u001b[0mwait\u001b[0m\u001b[0;34m(\u001b[0m\u001b[0;34m)\u001b[0m\u001b[0;34m\u001b[0m\u001b[0;34m\u001b[0m\u001b[0m\n\u001b[0m\u001b[1;32m    171\u001b[0m             \u001b[0;32melif\u001b[0m \u001b[0mtimeout\u001b[0m \u001b[0;34m<\u001b[0m \u001b[0;36m0\u001b[0m\u001b[0;34m:\u001b[0m\u001b[0;34m\u001b[0m\u001b[0;34m\u001b[0m\u001b[0m\n\u001b[1;32m    172\u001b[0m                 \u001b[0;32mraise\u001b[0m \u001b[0mValueError\u001b[0m\u001b[0;34m(\u001b[0m\u001b[0;34m\"'timeout' must be a non-negative number\"\u001b[0m\u001b[0;34m)\u001b[0m\u001b[0;34m\u001b[0m\u001b[0;34m\u001b[0m\u001b[0m\n",
      "\u001b[0;32m/usr/lib/python3.8/threading.py\u001b[0m in \u001b[0;36mwait\u001b[0;34m(self, timeout)\u001b[0m\n\u001b[1;32m    300\u001b[0m         \u001b[0;32mtry\u001b[0m\u001b[0;34m:\u001b[0m    \u001b[0;31m# restore state no matter what (e.g., KeyboardInterrupt)\u001b[0m\u001b[0;34m\u001b[0m\u001b[0;34m\u001b[0m\u001b[0m\n\u001b[1;32m    301\u001b[0m             \u001b[0;32mif\u001b[0m \u001b[0mtimeout\u001b[0m \u001b[0;32mis\u001b[0m \u001b[0;32mNone\u001b[0m\u001b[0;34m:\u001b[0m\u001b[0;34m\u001b[0m\u001b[0;34m\u001b[0m\u001b[0m\n\u001b[0;32m--> 302\u001b[0;31m                 \u001b[0mwaiter\u001b[0m\u001b[0;34m.\u001b[0m\u001b[0macquire\u001b[0m\u001b[0;34m(\u001b[0m\u001b[0;34m)\u001b[0m\u001b[0;34m\u001b[0m\u001b[0;34m\u001b[0m\u001b[0m\n\u001b[0m\u001b[1;32m    303\u001b[0m                 \u001b[0mgotit\u001b[0m \u001b[0;34m=\u001b[0m \u001b[0;32mTrue\u001b[0m\u001b[0;34m\u001b[0m\u001b[0;34m\u001b[0m\u001b[0m\n\u001b[1;32m    304\u001b[0m             \u001b[0;32melse\u001b[0m\u001b[0;34m:\u001b[0m\u001b[0;34m\u001b[0m\u001b[0;34m\u001b[0m\u001b[0m\n",
      "\u001b[0;31mKeyboardInterrupt\u001b[0m: "
     ]
    }
   ],
   "source": [
    "import threading, queue\n",
    "import random\n",
    "\n",
    "def calc_square(num, out_queue1):\n",
    "    l = []\n",
    "    for x in num:\n",
    "        l.append(x*x)\n",
    "    s = random.random()*3\n",
    "    print(s)\n",
    "#     time.sleep(s)\n",
    "#     out_queue1.put(l)\n",
    "\n",
    "\n",
    "arr = [1,2,3,4,5,6,7,8,9,10]\n",
    "out_queue1=queue.Queue()\n",
    "t1=threading.Thread(target=calc_square, args=(arr,out_queue1))\n",
    "t1.start()\n",
    "t1.join()\n",
    "print(out_queue1.get())"
   ]
  },
  {
   "cell_type": "code",
   "execution_count": null,
   "metadata": {},
   "outputs": [],
   "source": [
    "import threading\n",
    "# use Queue for python2\n",
    "import queue\n",
    "import random\n",
    "\n",
    "LETTERS = 'abcdefghijklmnopqrstuvwxyz'\n",
    "LETTERS = [ x for x in LETTERS ]\n",
    "\n",
    "NUMBERS = [0, 1, 2, 3, 4, 5, 6, 7, 8, 9]\n",
    "\n",
    "def fib(n):\n",
    "    if n in [0,1]: return 1\n",
    "    return fib(n-1)+fib(n-2)\n",
    "\n",
    "def randoms(k, q):\n",
    "    result = dict()\n",
    "#     fib(4)\n",
    "    result['letter'] = random.choice(LETTERS)\n",
    "    result['number'] = random.choice(NUMBERS)\n",
    "    q.put({k: result})\n",
    "\n",
    "threads = list()\n",
    "q = queue.Queue()\n",
    "results = dict()\n",
    "\n",
    "for name in ['yankee']* 3:\n",
    "    threads.append( threading.Thread(target=randoms, args=(name, q)) )\n",
    "    threads[-1].start()\n",
    "_ = [ t.join() for t in threads ]\n",
    "while not q.empty():\n",
    "    results.update(q.get())\n",
    "\n",
    "print(results)"
   ]
  },
  {
   "cell_type": "code",
   "execution_count": null,
   "metadata": {},
   "outputs": [],
   "source": []
  }
 ],
 "metadata": {
  "kernelspec": {
   "display_name": "Python 3 (ipykernel)",
   "language": "python",
   "name": "python3"
  },
  "language_info": {
   "codemirror_mode": {
    "name": "ipython",
    "version": 3
   },
   "file_extension": ".py",
   "mimetype": "text/x-python",
   "name": "python",
   "nbconvert_exporter": "python",
   "pygments_lexer": "ipython3",
   "version": "3.8.6"
  }
 },
 "nbformat": 4,
 "nbformat_minor": 4
}
